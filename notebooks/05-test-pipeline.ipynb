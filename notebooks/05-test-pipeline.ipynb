{
 "cells": [
  {
   "cell_type": "code",
   "execution_count": null,
   "id": "17a952b7-0703-4b42-8da4-83425e2ab90b",
   "metadata": {},
   "outputs": [
    {
     "name": "stdout",
     "output_type": "stream",
     "text": [
      "Waiting for Apache Livy to start...\n",
      "Apache Livy has started.\n",
      "Starting session ses1\n"
     ]
    }
   ],
   "source": [
    "%create_livy_session \\\n",
    "--cluster ephemeral-cluster \\\n",
    "--id ses1 \\\n",
    "--conf spark.jars.packages=io.delta:delta-core_2.12:0.8.0 \\\n",
    "--conf spark.sql.extensions=io.delta.sql.DeltaSparkSessionExtension \\\n",
    "--conf spark.sql.catalog.spark_catalog=org.apache.spark.sql.delta.catalog.DeltaCatalog \\\n",
    "--conf spark.sql.hive.metastore.sharedPrefixes=com.amazonaws,ru.yandex.cloud \\\n",
    "--conf spark.sql.warehouse.dir=s3a://keshaaa/wh"
   ]
  },
  {
   "cell_type": "code",
   "execution_count": null,
   "id": "ee4ea5c8-2c57-48c9-855e-38f28b3da637",
   "metadata": {},
   "outputs": [
    {
     "name": "stdout",
     "output_type": "stream",
     "text": [
      "Waiting for an Apache Livy session to start...\n",
      "Apache Livy session has started.\n",
      "\n"
     ]
    }
   ],
   "source": [
    "#!spark --cluster ephemeral-cluster --session ses1\n",
    "S3_BUCKET_NAME=\"keshaaa\"\n",
    "inputDF = spark.createDataFrame(\n",
    "    [\n",
    "        (\"100\", \"2015-01-01\", \"2015-01-01T13:51:39.340396Z\"),\n",
    "        (\"101\", \"2015-01-01\", \"2015-01-01T12:14:58.597216Z\"),\n",
    "        (\"102\", \"2015-01-01\", \"2015-01-01T13:51:40.417052Z\"),\n",
    "        (\"103\", \"2015-01-01\", \"2015-01-01T13:51:40.519832Z\"),\n",
    "        (\"104\", \"2015-01-02\", \"2015-01-01T12:15:00.512679Z\"),\n",
    "        (\"105\", \"2015-01-02\", \"2015-01-01T13:51:42.248818Z\"),\n",
    "    ],\n",
    "    [\"id\", \"creation_date\", \"last_update_time\"],\n",
    ")\n",
    "\n",
    "# Write a DataFrame as a Delta dataset\n",
    "inputDF.write.format(\"delta\").mode(\"overwrite\").option(\n",
    "    \"overwriteSchema\", \"true\"\n",
    ").partitionBy(\"creation_date\").save(f\"s3a://{S3_BUCKET_NAME}/tmp/delta/\")"
   ]
  },
  {
   "cell_type": "code",
   "execution_count": 11,
   "id": "489a5359-022e-4746-a2da-ae23af98278e",
   "metadata": {},
   "outputs": [],
   "source": [
    "%delete_livy_session \\\n",
    "--cluster ephemeral-cluster \\\n",
    "--id ses1"
   ]
  },
  {
   "cell_type": "code",
   "execution_count": null,
   "id": "52a4de68-bb09-45b2-93a5-ef2a6192af88",
   "metadata": {},
   "outputs": [],
   "source": []
  },
  {
   "cell_type": "code",
   "execution_count": null,
   "id": "4a9d8863-71bc-422b-9b75-d510ae4f564d",
   "metadata": {},
   "outputs": [],
   "source": [
    "# %pip install boto3 if needed\n",
    "# set os environment variables aws_access_key_id and aws_secret_access_key\n",
    "import os\n",
    "import boto3\n",
    "\n",
    "S3_CREDS = {\n",
    "    \"aws_access_key_id\": os.environ['aws_access_key_id'],\n",
    "    \"aws_secret_access_key\": os.environ['aws_secret_access_key']\n",
    "}\n",
    "bucket_name = \"my_bucket\"\n",
    "\n",
    "source_path = 'path/to/remote/directory'\n",
    "target_path = 'path/to/local/directory'\n",
    "\n",
    "s3r = boto3.resource(service_name='s3', endpoint_url='https://storage.yandexcloud.net', **S3_CREDS)\n",
    "bucket = s3r.Bucket(bucket_name)\n",
    "\n",
    "for obj in bucket.objects.filter(Prefix=source_path):\n",
    "    if not os.path.relpath(obj.key, source_path).startswith('../'):\n",
    "        os.makedirs(os.path.join(target_path, os.path.dirname(obj.key)), exist_ok=True)\n",
    "        if obj.key[-1] != '/':\n",
    "            bucket.download_file(obj.key, os.path.join(target_path, obj.key))\n"
   ]
  }
 ],
 "metadata": {
  "kernelspec": {
   "display_name": "DataSphere Kernel",
   "language": "python",
   "name": "python3"
  },
  "language_info": {
   "codemirror_mode": {
    "name": "ipython",
    "version": 3
   },
   "file_extension": ".py",
   "mimetype": "text/x-python",
   "name": "python",
   "nbconvert_exporter": "python",
   "pygments_lexer": "ipython3",
   "version": "3.7.7"
  }
 },
 "nbformat": 4,
 "nbformat_minor": 5
}
