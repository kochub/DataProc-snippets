{
 "cells": [
  {
   "cell_type": "code",
   "execution_count": null,
   "id": "9ebdd579-7dee-496d-b41c-5b77bc59d38c",
   "metadata": {},
   "outputs": [],
   "source": [
    "%create_livy_session \\\n",
    "--cluster dp-dl \\\n",
    "--id ses1 \\\n",
    "--conf spark.jars.packages=io.delta:delta-core_2.12:0.8.0 \\\n",
    "--conf spark.sql.extensions=io.delta.sql.DeltaSparkSessionExtension \\\n",
    "--conf spark.sql.catalog.spark_catalog=org.apache.spark.sql.delta.catalog.DeltaCatalog \\\n",
    "--conf spark.sql.hive.metastore.sharedPrefixes=com.amazonaws,ru.yandex.cloud \\\n",
    "--conf spark.sql.warehouse.dir=s3a://keshaaa/wh"
   ]
  },
  {
   "cell_type": "code",
   "execution_count": 25,
   "id": "f1748171-e92c-458d-9002-9d157a3c2929",
   "metadata": {},
   "outputs": [
    {
     "name": "stdout",
     "output_type": "stream",
     "text": [
      "+--------+-------------------+--------------------+--------------------+---------+-------------+--------------------+-------------------+-----------+----------+-------------+\n",
      "|      id|               date|             email-1|            password|FirstName|     LastName|            e-mail-2|             date-2|      phone| birthdate|   MiddleName|\n",
      "+--------+-------------------+--------------------+--------------------+---------+-------------+--------------------+-------------------+-----------+----------+-------------+\n",
      "|13541159|2023-02-12 00:43:25|  M.PISAREVA@MAIL.RU|3fE_A6+nc44fa1e3a...|   Марина|     Писарева|  M.PISAREVA@MAIL.RU|2023-02-12 00:43:25|79219249780|1981-12-05|   Викторовна|\n",
      "|13541160|2022-09-17 06:21:37|   Mail30rus@mail.ru|tQNlQNMAbf7ab376f...|     Иван|        Жуков|   Mail30rus@mail.ru|2022-09-17 06:21:37|79272847965|1990-07-31|  Анатольевич|\n",
      "|13541161|2022-09-09 12:34:35|order-215619298@i...|s8D4SspZ9e033fedb...|     ИВАН|      СТРУНИН|order-215619298@i...|                 \\N|79313435735|1990-09-22|АЛЕКСАНДРОВИЧ|\n",
      "|13541162|2022-09-09 12:34:41|     DRDIMKO@MAIL.RU|S0OuN32Fe0e4f3b46...|  Дмитрий|    Третьяков|     DRDIMKO@MAIL.RU|                 \\N|       null|1975-03-23|         null|\n",
      "|13541163|2022-09-09 19:00:11|    nkrupa@yandex.ru|0iF22nosacbe2db19...|  Надежда|   Герасимчик|    nkrupa@yandex.ru|2022-09-09 19:00:11|79099294131|1977-08-22|   Васильевна|\n",
      "|13541164|2022-09-09 12:45:08|Zolotorevsv@yande...|0m[M^Br6878128420...|   Сергей|    Золоторёв|Zolotorevsv@yande...|2022-09-09 12:45:07|79990023348|1993-03-15|   Витальевич|\n",
      "|13541165|2022-09-09 12:34:57|   s_nasty.r@mail.ru|7rjhXSGj9cead8b74...|Анастасия|     Глебова |   s_nasty.r@mail.ru|                 \\N|79261863008|1983-07-14|   Валерьевна|\n",
      "|13541166|2022-09-09 12:35:03|solnce220994@mail.ru|mHmUXMLe653aa860a...| Владимир|         Лоик|solnce220994@mail.ru|                 \\N|79123515792|1958-03-23|    Андреевич|\n",
      "|13541167|2022-09-09 12:35:12|maksdenis2008@yan...|WygtNWSb0e489fe53...|   Максим|      Денисов|maksdenis2008@yan...|                 \\N|79216355456|1973-02-24| Владимирович|\n",
      "|13541168|2022-09-09 12:35:15|   KOROHEVA@INBOX.RU|wSYOHaNv87e604611...|Анастасия|     Сутырина|   KOROHEVA@INBOX.RU|                 \\N|       null|1989-06-02|         null|\n",
      "|13541170|2022-09-09 12:35:31|YULIAVMKRV@GMAIL.COM|qDi1O3sO58bbf435a...|     Юлия|     Макарова|YULIAVMKRV@GMAIL.COM|                 \\N|       null|1997-05-12|         null|\n",
      "|13541171|2022-09-09 13:19:21|daniel271176@gmai...|ffiPwtS7269c78912...|   Пятрас|Брузгелявичюс|daniel271176@gmai...|2022-09-09 12:36:24|79522579262|1956-08-11|      Альбино|\n",
      "|13541172|2022-09-09 12:35:44|      Den494@mail.ru|K8np5V9039639ccc3...|    Денис|    Назаренко|      Den494@mail.ru|                 \\N|79624106529|1982-12-21|Александрович|\n",
      "|13541173|2022-09-09 12:35:46|MARIATROSHINA@GMA...|0JXFju7nb00bce9f1...|    Мария|      Трошина|MARIATROSHINA@GMA...|                 \\N|       null|1980-03-22|         null|\n",
      "|13541174|2022-09-09 12:35:48|   podlips@yandex.ru|NQccSKHWb93c991d1...|     Олег|    Подлипный|   podlips@yandex.ru|                 \\N|79161276037|1967-12-21|     Иванович|\n",
      "|13541175|2022-10-24 16:43:31|order-215620297@i...|8G)gh<H55c4a951a8...|  АЛЕКСЕЙ|    ЕГОРОЧКИН|order-215620297@i...|2022-09-17 13:16:17|79151960259|1981-11-15| ВЛАДИМИРОВИЧ|\n",
      "|13541176|2022-09-09 12:35:53|Awesome.Dayana@gm...|wDyIB3Fqa218d2772...|    Даяна| Мухлисламова|Awesome.Dayana@gm...|                 \\N|79919830572|1995-07-29|  Салаватовна|\n",
      "|13541177|2022-09-09 12:35:57|    BRATIC05@MAIL.RU|OBRCrt24d6e440ec2...|    Марат|     Агаханов|    BRATIC05@MAIL.RU|                 \\N|       null|1991-07-19|         null|\n",
      "|13541178|2022-09-09 12:35:59|  Sanya47-47@mail.ru|NXxf4867a6255de05...|Александр|      Кутовой|  Sanya47-47@mail.ru|                 \\N|79131490830|1970-01-01|         null|\n",
      "|13541179|2022-09-09 12:36:11|guskova-1082418@t...|J6631lf125ab01e89...|     юлия|     гуськова|guskova-1082418@t...|                 \\N|79106266328|1990-12-27|   алексеевна|\n",
      "+--------+-------------------+--------------------+--------------------+---------+-------------+--------------------+-------------------+-----------+----------+-------------+\n",
      "only showing top 20 rows\n"
     ]
    }
   ],
   "source": [
    "#!spark --cluster dp-dl --session ses1\n",
    "df = spark.read.option(\"delimiter\", \"\\t\").option(\"header\", False).csv(\"s3a://keshaaa/alfastrah-users.csv\")\n",
    "new_names = ['id', 'date', 'email-1', 'password', 'FirstName', 'LastName', 'e-mail-2', 'date-2', 'phone', 'birthdate', 'MiddleName']\n",
    "df = df.toDF(*new_names)\n",
    "df.show()"
   ]
  },
  {
   "cell_type": "code",
   "execution_count": 16,
   "id": "56d1ecda-4dc6-4176-86ef-047d608d8af6",
   "metadata": {},
   "outputs": [
    {
     "name": "stdout",
     "output_type": "stream",
     "text": [
      "\n"
     ]
    }
   ],
   "source": [
    "#!spark --cluster dp-dl --session ses1\n",
    "df.createOrReplaceTempView(\"table\")"
   ]
  },
  {
   "cell_type": "code",
   "execution_count": 35,
   "id": "a3b790d6-85a3-4d3b-9473-1ad117e04188",
   "metadata": {},
   "outputs": [
    {
     "name": "stdout",
     "output_type": "stream",
     "text": [
      "+--------+-------------------+-----------------+--------------------+-----+---+-----------------+-------------------+-----------+----------+-------------+\n",
      "|     _c0|                _c1|              _c2|                 _c3|  _c4|_c5|              _c6|                _c7|        _c8|       _c9|         _c10|\n",
      "+--------+-------------------+-----------------+--------------------+-----+---+-----------------+-------------------+-----------+----------+-------------+\n",
      "|13724057|2023-01-28 17:33:27|d.m.dar@yandex.ru|SUNMVv0C1662fdf1a...|Денис|Дар|d.m.dar@yandex.ru|2023-01-28 17:33:27|79167722772|1983-05-18|     Маркович|\n",
      "|13776485|2023-03-10 17:31:51|      Izeda@ya.ru|O7^oCk9}e8187bccd...|Мария|Дар|      Izeda@ya.ru|2023-03-10 17:31:51|79028007608|1988-05-04|Александровна|\n",
      "+--------+-------------------+-----------------+--------------------+-----+---+-----------------+-------------------+-----------+----------+-------------+\n"
     ]
    }
   ],
   "source": [
    "#!spark --cluster dp-dl --session ses1\n",
    "sqlDF = spark.sql(\"SELECT * FROM table WHERE _c5 = 'Дар'\")\n",
    "sqlDF.show()"
   ]
  },
  {
   "cell_type": "code",
   "execution_count": 30,
   "id": "7466a899-580d-47bc-bd99-380b66813f3c",
   "metadata": {},
   "outputs": [
    {
     "name": "stdout",
     "output_type": "stream",
     "text": [
      "\n"
     ]
    }
   ],
   "source": [
    "#!spark --cluster dp-dl --session ses1\n",
    "df.write.format(\"delta\").mode(\"overwrite\").option(\n",
    "    \"overwriteSchema\", \"true\"\n",
    ").save(f\"s3a://keshaaa/test/delta/\")"
   ]
  },
  {
   "cell_type": "code",
   "execution_count": 44,
   "id": "9b9d54d8-7f9d-40e7-a1b7-7b0f58bfe538",
   "metadata": {},
   "outputs": [
    {
     "name": "stdout",
     "output_type": "stream",
     "text": [
      "DataFrame[]\n"
     ]
    }
   ],
   "source": [
    "#!spark --cluster dp-dl --session ses1\n",
    "spark.sql(\"USE testdelta;\")\n",
    "spark.sql(\"CREATE TABLE tab2 USING DELTA AS SELECT * FROM table\")"
   ]
  },
  {
   "cell_type": "code",
   "execution_count": 46,
   "id": "3da2004e-0e7b-4025-a381-99615921a23d",
   "metadata": {},
   "outputs": [
    {
     "name": "stdout",
     "output_type": "stream",
     "text": [
      "DataFrame[]\n"
     ]
    }
   ],
   "source": [
    "#!spark --cluster dp-dl --session ses1\n",
    "spark.sql(\"DROP TABLE tab4\")"
   ]
  },
  {
   "cell_type": "code",
   "execution_count": null,
   "id": "2d1424d6-b628-4929-833b-95b258271874",
   "metadata": {},
   "outputs": [],
   "source": [
    "%delete_livy_session \\\n",
    "--cluster dp-dl \\\n",
    "--id ses1"
   ]
  },
  {
   "cell_type": "code",
   "execution_count": null,
   "id": "a0095e72-af9f-4a62-9c29-4b93f983af07",
   "metadata": {},
   "outputs": [],
   "source": []
  }
 ],
 "metadata": {
  "kernelspec": {
   "display_name": "DataSphere Kernel",
   "language": "python",
   "name": "python3"
  },
  "language_info": {
   "codemirror_mode": {
    "name": "ipython",
    "version": 3
   },
   "file_extension": ".py",
   "mimetype": "text/x-python",
   "name": "python",
   "nbconvert_exporter": "python",
   "pygments_lexer": "ipython3",
   "version": "3.7.7"
  },
  "notebookId": "edb5a54c-3815-4057-8e6e-a729e2b11dc3",
  "notebookPath": "modern-data-lake-storage-layers/notebooks/03-Metastore.ipynb",
  "toc-autonumbering": true,
  "toc-showcode": true
 },
 "nbformat": 4,
 "nbformat_minor": 5
}
