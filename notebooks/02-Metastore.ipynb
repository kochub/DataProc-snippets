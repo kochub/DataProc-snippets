{
  "nbformat" : 4,
  "nbformat_minor" : 5,
  "metadata" : {
    "notebookPath" : "modern-data-lake-storage-layers/notebooks/03-Metastore.ipynb",
    "language_info" : {
      "codemirror_mode" : {
        "name" : "ipython",
        "version" : 3
      },
      "file_extension" : ".py",
      "mimetype" : "text/x-python",
      "name" : "python",
      "nbconvert_exporter" : "python",
      "pygments_lexer" : "ipython3",
      "version" : "3.7.7"
    },
    "notebookId" : "edb5a54c-3815-4057-8e6e-a729e2b11dc3",
    "kernelspec" : {
      "name" : "python3",
      "description" : "IPython kernel implementation for DataSphere",
      "spec" : {
        "language" : "python",
        "display_name" : "DataSphere Kernel",
        "codemirror_mode" : "python",
        "argv" : [ "/bin/true" ],
        "env" : { },
        "help_links" : [ ],
        "metadata" : {
          "app" : "YANDEX_DATASPHERE"
        }
      },
      "resources" : { },
      "display_name" : "DataSphere Kernel"
    }
  },
  "cells" : [ {
    "cell_type" : "code",
    "source" : [ "%create_livy_session \\\n", "--cluster dp-dl \\\n", "--id ses1 \\\n", "--conf spark.jars.packages=io.delta:delta-core_2.12:0.8.0 \\\n", "--conf spark.sql.extensions=io.delta.sql.DeltaSparkSessionExtension \\\n", "--conf spark.sql.catalog.spark_catalog=org.apache.spark.sql.delta.catalog.DeltaCatalog \\\n", "--conf spark.sql.hive.metastore.sharedPrefixes=com.amazonaws,ru.yandex.cloud \\\n", "--conf spark.sql.warehouse.dir=s3a://keshaaa/wh" ],
    "metadata" : { },
    "outputs" : [ {
      "name" : "stdout",
      "output_type" : "stream",
      "text" : [ "Starting session ses1\n" ]
    } ],
    "execution_count" : 3,
    "id" : "9ebdd579-7dee-496d-b41c-5b77bc59d38c"
  }, {
    "cell_type" : "code",
    "source" : [ "#!spark --cluster dp-dl --session ses1\n", "spark.sql(\"DROP DATABASE testdelta;\")" ],
    "metadata" : { },
    "outputs" : [ {
      "name" : "stdout",
      "output_type" : "stream",
      "text" : [ "DataFrame[]\n" ]
    } ],
    "execution_count" : 6,
    "id" : "f1748171-e92c-458d-9002-9d157a3c2929"
  }, {
    "cell_type" : "code",
    "source" : [ "#!spark --cluster dp-dl --session ses1\n", "spark.sql(\"CREATE DATABASE testdelta;\")" ],
    "metadata" : { },
    "outputs" : [ {
      "name" : "stdout",
      "output_type" : "stream",
      "text" : [ "DataFrame[]\n" ]
    } ],
    "execution_count" : 7,
    "id" : "deefed10-9f71-4c4e-ae75-2007a373d24f"
  }, {
    "cell_type" : "code",
    "source" : [ "#!spark --cluster dp-dl --session ses1\n", "spark.sql(\"USE testdelta;\")" ],
    "metadata" : { },
    "outputs" : [ {
      "name" : "stdout",
      "output_type" : "stream",
      "text" : [ "DataFrame[]\n" ]
    } ],
    "execution_count" : 8,
    "id" : "ff80a79e-1ec3-4081-b2a6-ee3e98284208"
  }, {
    "cell_type" : "code",
    "source" : [ "#!spark --cluster dp-dl --session ses1\n", "spark.sql(\"CREATE TABLE tab1(a INTEGER NOT NULL, b VARCHAR(100)) USING DELTA;\")" ],
    "metadata" : { },
    "outputs" : [ {
      "name" : "stdout",
      "output_type" : "stream",
      "text" : [ "DataFrame[]\n" ]
    } ],
    "execution_count" : 9,
    "id" : "7cc97f17-a1bc-40df-9a42-59adb73e2914"
  }, {
    "cell_type" : "code",
    "source" : [ ],
    "metadata" : { },
    "outputs" : [ ],
    "execution_count" : null,
    "id" : "2d1424d6-b628-4929-833b-95b258271874"
  } ]
}