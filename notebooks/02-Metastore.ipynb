{
 "cells": [
  {
   "cell_type": "markdown",
   "id": "e630596c-b81a-488b-b2f0-a4c9fe66c4cd",
   "metadata": {},
   "source": [
    "Пример работы с DeltaLake"
   ]
  },
  {
   "cell_type": "code",
   "execution_count": 1,
   "id": "9ebdd579-7dee-496d-b41c-5b77bc59d38c",
   "metadata": {},
   "outputs": [
    {
     "name": "stdout",
     "output_type": "stream",
     "text": [
      "Starting session ses1\n"
     ]
    }
   ],
   "source": [
    "%create_livy_session \\\n",
    "--cluster dp-dl \\\n",
    "--id ses1 \\\n",
    "--conf spark.jars.packages=io.delta:delta-core_2.12:0.8.0 \\\n",
    "--conf spark.sql.extensions=io.delta.sql.DeltaSparkSessionExtension \\\n",
    "--conf spark.hive.metastore.uris=thrift://10.130.0.17:9083 \\\n",
    "--conf spark.sql.catalog.spark_catalog=org.apache.spark.sql.delta.catalog.DeltaCatalog \\\n",
    "--conf spark.sql.hive.metastore.sharedPrefixes=com.amazonaws,ru.yandex.cloud \\\n",
    "--conf spark.sql.warehouse.dir=s3a://keshaaa/wh"
   ]
  },
  {
   "cell_type": "code",
   "execution_count": 37,
   "id": "f1748171-e92c-458d-9002-9d157a3c2929",
   "metadata": {},
   "outputs": [
    {
     "name": "stdout",
     "output_type": "stream",
     "text": [
      "DataFrame[]\n"
     ]
    }
   ],
   "source": [
    "#!spark --cluster dp-dl --session ses1\n",
    "spark.sql(f\"DROP DATABASE IF EXISTS testdelta CASCADE;\")"
   ]
  },
  {
   "cell_type": "code",
   "execution_count": 2,
   "id": "deefed10-9f71-4c4e-ae75-2007a373d24f",
   "metadata": {},
   "outputs": [
    {
     "name": "stdout",
     "output_type": "stream",
     "text": [
      "Waiting for an Apache Livy session to start...\n",
      "Apache Livy session has started.\n",
      "DataFrame[]\n"
     ]
    }
   ],
   "source": [
    "#!spark --cluster dp-dl --session ses1\n",
    "spark.sql(\"CREATE DATABASE testdelta;\")"
   ]
  },
  {
   "cell_type": "code",
   "execution_count": 102,
   "id": "f8193bfb-9bb0-42ac-92ad-f19b277a0e64",
   "metadata": {},
   "outputs": [],
   "source": [
    "%delete_livy_session \\\n",
    "--cluster dp-dl \\\n",
    "--id ses1"
   ]
  },
  {
   "cell_type": "code",
   "execution_count": null,
   "id": "ff80a79e-1ec3-4081-b2a6-ee3e98284208",
   "metadata": {},
   "outputs": [],
   "source": [
    "#!spark --cluster dp-dl --session ses1\n",
    "spark.sql(\"USE testdelta;\")"
   ]
  },
  {
   "cell_type": "code",
   "execution_count": 40,
   "id": "7cc97f17-a1bc-40df-9a42-59adb73e2914",
   "metadata": {},
   "outputs": [
    {
     "name": "stdout",
     "output_type": "stream",
     "text": [
      "DataFrame[]\n"
     ]
    }
   ],
   "source": [
    "#!spark --cluster dp-dl --session ses1\n",
    "spark.sql(\"CREATE TABLE tab1(a INTEGER NOT NULL, b VARCHAR(100)) USING DELTA;\")"
   ]
  },
  {
   "cell_type": "code",
   "execution_count": 41,
   "id": "04afb030-c42a-4d28-ad97-3bb74d0c4d61",
   "metadata": {},
   "outputs": [
    {
     "name": "stdout",
     "output_type": "stream",
     "text": [
      "[Database(name='default', description='Default Hive database', locationUri='file:/var/lib/livy/spark-warehouse'), Database(name='testdelta', description='', locationUri='s3a://keshaaa/wh/testdelta.db')]\n"
     ]
    }
   ],
   "source": [
    "#!spark --cluster dp-dl --session ses1\n",
    "spark.catalog.listDatabases()"
   ]
  },
  {
   "cell_type": "code",
   "execution_count": 45,
   "id": "e2d1dd32-349b-406c-899d-673ab5d04f84",
   "metadata": {},
   "outputs": [
    {
     "name": "stdout",
     "output_type": "stream",
     "text": [
      "\n"
     ]
    }
   ],
   "source": [
    "#!spark --cluster dp-dl --session ses1\n",
    "spark.catalog.setCurrentDatabase('testdelta')"
   ]
  },
  {
   "cell_type": "code",
   "execution_count": 46,
   "id": "1ced0beb-782c-43f8-bbff-e811e313654c",
   "metadata": {},
   "outputs": [
    {
     "name": "stdout",
     "output_type": "stream",
     "text": [
      "[Table(name='tab1', database='testdelta', description=None, tableType='MANAGED', isTemporary=False)]\n"
     ]
    }
   ],
   "source": [
    "#!spark --cluster dp-dl --session ses1\n",
    "spark.catalog.listTables()"
   ]
  },
  {
   "cell_type": "code",
   "execution_count": null,
   "id": "bca00bbe-fb9a-442e-a7a2-41a7b17cb352",
   "metadata": {},
   "outputs": [],
   "source": [
    "#!spark --cluster dp-dl --session ses1\n",
    "help(spark.catalog)"
   ]
  },
  {
   "cell_type": "code",
   "execution_count": null,
   "id": "4e256cd3-8dcd-4d29-b8ff-829ce752989f",
   "metadata": {},
   "outputs": [],
   "source": [
    "#!spark --cluster dp-dl --session ses1\n",
    "spark.sparkContext.getConf().getAll()"
   ]
  },
  {
   "cell_type": "code",
   "execution_count": null,
   "id": "62c12ede-f827-4da3-8764-abc2ea693a3c",
   "metadata": {},
   "outputs": [],
   "source": [
    "#!spark --cluster dp-dl --session ses1\n",
    "spark.conf.get('spark.rpc.message.maxSize')"
   ]
  },
  {
   "cell_type": "code",
   "execution_count": 69,
   "id": "ca4c542d-cee2-4dfa-84b1-4ade93025ad3",
   "metadata": {},
   "outputs": [
    {
     "name": "stdout",
     "output_type": "stream",
     "text": [
      "{'_jconf': JavaObject id=o91}\n"
     ]
    }
   ],
   "source": [
    "#!spark --cluster dp-dl --session ses1\n",
    "print(spark.conf.__dict__)"
   ]
  },
  {
   "cell_type": "code",
   "execution_count": null,
   "id": "51608ab0-b45e-4ca1-99c1-cdeccdd65f05",
   "metadata": {},
   "outputs": [],
   "source": []
  }
 ],
 "metadata": {
  "kernelspec": {
   "display_name": "DataSphere Kernel",
   "language": "python",
   "name": "python3"
  },
  "language_info": {
   "codemirror_mode": {
    "name": "ipython",
    "version": 3
   },
   "file_extension": ".py",
   "mimetype": "text/x-python",
   "name": "python",
   "nbconvert_exporter": "python",
   "pygments_lexer": "ipython3",
   "version": "3.7.7"
  },
  "notebookId": "edb5a54c-3815-4057-8e6e-a729e2b11dc3",
  "notebookPath": "modern-data-lake-storage-layers/notebooks/03-Metastore.ipynb"
 },
 "nbformat": 4,
 "nbformat_minor": 5
}
