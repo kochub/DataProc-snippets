{
 "cells": [
  {
   "cell_type": "code",
   "execution_count": 3,
   "id": "9ebdd579-7dee-496d-b41c-5b77bc59d38c",
   "metadata": {},
   "outputs": [
    {
     "name": "stdout",
     "output_type": "stream",
     "text": [
      "Starting session ses1\n"
     ]
    }
   ],
   "source": [
    "%create_livy_session \\\n",
    "--cluster dp-dl \\\n",
    "--id ses1 \\\n",
    "--conf spark.jars.packages=io.delta:delta-core_2.12:0.8.0 \\\n",
    "--conf spark.sql.extensions=io.delta.sql.DeltaSparkSessionExtension \\\n",
    "--conf spark.sql.catalog.spark_catalog=org.apache.spark.sql.delta.catalog.DeltaCatalog \\\n",
    "--conf spark.sql.hive.metastore.sharedPrefixes=com.amazonaws,ru.yandex.cloud \\\n",
    "--conf spark.sql.warehouse.dir=s3a://keshaaa/wh"
   ]
  },
  {
   "cell_type": "code",
   "execution_count": 6,
   "id": "f1748171-e92c-458d-9002-9d157a3c2929",
   "metadata": {},
   "outputs": [
    {
     "name": "stdout",
     "output_type": "stream",
     "text": [
      "DataFrame[]\n"
     ]
    }
   ],
   "source": [
    "#!spark --cluster dp-dl --session ses1\n",
    "spark.sql(\"DROP DATABASE testdelta;\")"
   ]
  },
  {
   "cell_type": "code",
   "execution_count": 7,
   "id": "deefed10-9f71-4c4e-ae75-2007a373d24f",
   "metadata": {},
   "outputs": [
    {
     "name": "stdout",
     "output_type": "stream",
     "text": [
      "DataFrame[]\n"
     ]
    }
   ],
   "source": [
    "#!spark --cluster dp-dl --session ses1\n",
    "spark.sql(\"CREATE DATABASE testdelta;\")"
   ]
  },
  {
   "cell_type": "code",
   "execution_count": 8,
   "id": "ff80a79e-1ec3-4081-b2a6-ee3e98284208",
   "metadata": {},
   "outputs": [
    {
     "name": "stdout",
     "output_type": "stream",
     "text": [
      "DataFrame[]\n"
     ]
    }
   ],
   "source": [
    "#!spark --cluster dp-dl --session ses1\n",
    "spark.sql(\"USE testdelta;\")"
   ]
  },
  {
   "cell_type": "code",
   "execution_count": 9,
   "id": "7cc97f17-a1bc-40df-9a42-59adb73e2914",
   "metadata": {},
   "outputs": [
    {
     "name": "stdout",
     "output_type": "stream",
     "text": [
      "DataFrame[]\n"
     ]
    }
   ],
   "source": [
    "#!spark --cluster dp-dl --session ses1\n",
    "spark.sql(\"CREATE TABLE tab1(a INTEGER NOT NULL, b VARCHAR(100)) USING DELTA;\")"
   ]
  },
  {
   "cell_type": "code",
   "execution_count": null,
   "id": "2d1424d6-b628-4929-833b-95b258271874",
   "metadata": {},
   "outputs": [],
   "source": []
  }
 ],
 "metadata": {
  "kernelspec": {
   "description": "IPython kernel implementation for DataSphere",
   "display_name": "DataSphere Kernel",
   "name": "python3",
   "resources": {},
   "spec": {
    "argv": [
     "/bin/true"
    ],
    "codemirror_mode": "python",
    "display_name": "DataSphere Kernel",
    "env": {},
    "help_links": [],
    "language": "python",
    "metadata": {
     "app": "YANDEX_DATASPHERE"
    }
   }
  },
  "language_info": {
   "codemirror_mode": {
    "name": "ipython",
    "version": 3
   },
   "file_extension": ".py",
   "mimetype": "text/x-python",
   "name": "python",
   "nbconvert_exporter": "python",
   "pygments_lexer": "ipython3",
   "version": "3.7.7"
  },
  "notebookId": "edb5a54c-3815-4057-8e6e-a729e2b11dc3",
  "notebookPath": "modern-data-lake-storage-layers/notebooks/03-Metastore.ipynb"
 },
 "nbformat": 4,
 "nbformat_minor": 5
}
