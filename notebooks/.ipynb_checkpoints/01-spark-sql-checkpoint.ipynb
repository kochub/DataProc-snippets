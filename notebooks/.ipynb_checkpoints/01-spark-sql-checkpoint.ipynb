{
 "cells": [
  {
   "cell_type": "code",
   "execution_count": null,
   "metadata": {},
   "outputs": [],
   "source": [
    "%create_livy_session \\\n",
    "--cluster dp-dl \\\n",
    "--id ses1 \\\n",
    "--conf spark.jars.packages=io.delta:delta-core_2.12:0.8.0 \\\n",
    "--conf spark.sql.extensions=io.delta.sql.DeltaSparkSessionExtension \\\n",
    "--conf\n",
    "--conf spark.sql.catalog.spark_catalog=org.apache.spark.sql.delta.catalog.DeltaCatalog \\\n",
    "--conf spark.sql.hive.metastore.sharedPrefixes=com.amazonaws,ru.yandex.cloud \\\n",
    "--conf spark.sql.warehouse.dir=s3a://keshaaa/wh"
   ]
  },
  {
   "cell_type": "code",
   "execution_count": null,
   "metadata": {},
   "outputs": [],
   "source": [
    "#!spark --cluster dp-dl --session ses1\n",
    "spark.sql(\"DROP DATABASE testdelta;\")"
   ]
  },
  {
   "cell_type": "code",
   "execution_count": null,
   "metadata": {},
   "outputs": [],
   "source": [
    "#!spark --cluster dp-dl --session ses1\n",
    "spark.sql(\"CREATE DATABASE testdelta;\")"
   ]
  },
  {
   "cell_type": "code",
   "execution_count": null,
   "metadata": {},
   "outputs": [],
   "source": [
    "#!spark --cluster dp-dl --session ses1\n",
    "spark.sql(\"USE testdelta;\")"
   ]
  },
  {
   "cell_type": "code",
   "execution_count": null,
   "metadata": {},
   "outputs": [],
   "source": [
    "#!spark --cluster dp-dl --session ses1\n",
    "spark.sql(\"CREATE TABLE tab1(a INTEGER NOT NULL, b VARCHAR(100)) USING DELTA;\")"
   ]
  }
 ],
 "metadata": {
  "language_info": {
   "name": "python"
  },
  "orig_nbformat": 4
 },
 "nbformat": 4,
 "nbformat_minor": 2
}
